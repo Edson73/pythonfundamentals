{
 "cells": [
  {
   "cell_type": "code",
   "execution_count": 2,
   "metadata": {},
   "outputs": [],
   "source": [
    "lista = [1, 2, 3]"
   ]
  },
  {
   "cell_type": "code",
   "execution_count": 3,
   "metadata": {},
   "outputs": [
    {
     "data": {
      "text/plain": [
       "[1, 2, 3]"
      ]
     },
     "execution_count": 3,
     "metadata": {},
     "output_type": "execute_result"
    }
   ],
   "source": [
    "lista"
   ]
  },
  {
   "cell_type": "code",
   "execution_count": 4,
   "metadata": {},
   "outputs": [
    {
     "ename": "AttributeError",
     "evalue": "module 'pandas' has no attribute 'read_csv'",
     "output_type": "error",
     "traceback": [
      "\u001b[0;31m---------------------------------------------------------------------------\u001b[0m",
      "\u001b[0;31mAttributeError\u001b[0m                            Traceback (most recent call last)",
      "\u001b[0;32m<ipython-input-4-7dd3504c366f>\u001b[0m in \u001b[0;36m<module>\u001b[0;34m\u001b[0m\n\u001b[0;32m----> 1\u001b[0;31m \u001b[0;32mimport\u001b[0m \u001b[0mpandas\u001b[0m \u001b[0;32mas\u001b[0m \u001b[0mpd\u001b[0m\u001b[0;34m\u001b[0m\u001b[0;34m\u001b[0m\u001b[0m\n\u001b[0m",
      "\u001b[0;32m~/python_fundamentals/aulas/pandas.py\u001b[0m in \u001b[0;36m<module>\u001b[0;34m\u001b[0m\n\u001b[1;32m      1\u001b[0m \u001b[0;32mimport\u001b[0m \u001b[0mpandas\u001b[0m \u001b[0;32mas\u001b[0m \u001b[0mpd\u001b[0m\u001b[0;34m\u001b[0m\u001b[0;34m\u001b[0m\u001b[0m\n\u001b[1;32m      2\u001b[0m \u001b[0;34m\u001b[0m\u001b[0m\n\u001b[0;32m----> 3\u001b[0;31m \u001b[0mdf\u001b[0m \u001b[0;34m=\u001b[0m \u001b[0mpd\u001b[0m\u001b[0;34m.\u001b[0m\u001b[0mread_csv\u001b[0m\u001b[0;34m(\u001b[0m\u001b[0;34m'../arquivos/salarios.csv'\u001b[0m\u001b[0;34m)\u001b[0m\u001b[0;34m\u001b[0m\u001b[0;34m\u001b[0m\u001b[0m\n\u001b[0m\u001b[1;32m      4\u001b[0m \u001b[0;34m\u001b[0m\u001b[0m\n\u001b[1;32m      5\u001b[0m \u001b[0mprint\u001b[0m\u001b[0;34m(\u001b[0m\u001b[0mdf\u001b[0m\u001b[0;34m[\u001b[0m\u001b[0;34m'Name'\u001b[0m\u001b[0;34m]\u001b[0m\u001b[0;34m)\u001b[0m\u001b[0;34m\u001b[0m\u001b[0;34m\u001b[0m\u001b[0m\n",
      "\u001b[0;31mAttributeError\u001b[0m: module 'pandas' has no attribute 'read_csv'"
     ]
    }
   ],
   "source": [
    "import pandas as pd"
   ]
  },
  {
   "cell_type": "code",
   "execution_count": 5,
   "metadata": {},
   "outputs": [
    {
     "name": "stdout",
     "output_type": "stream",
     "text": [
      "total 4608\r\n",
      "-rw-rw-r-- 1 developer developer      26 nov 18 21:11 arquivo01.txt\r\n",
      "-rwxrwxr-x 1 developer developer      49 nov 13 20:33 aula01.py\r\n",
      "-rw-rw-r-- 1 developer developer    1247 nov 13 20:33 aula02.py\r\n",
      "-rw-rw-r-- 1 developer developer    2069 nov 13 23:17 aula03.py\r\n",
      "-rw-rw-r-- 1 developer developer    3399 nov 18 20:41 aula04.py\r\n",
      "-rw-rw-r-- 1 developer developer    2165 nov 18 23:15 aula05.py\r\n",
      "-rw-rw-r-- 1 developer developer    1255 nov 19 22:54 aula06.py\r\n",
      "-rw-rw-r-- 1 developer developer    1900 nov 21 22:46 aula07.py\r\n",
      "-rw-rw-r-- 1 developer developer       0 nov 22 19:43 aula08.py\r\n",
      "-rw-rw-r-- 1 developer developer    1416 nov 25 22:37 aula09.py\r\n",
      "-rw-rw-r-- 1 developer developer     920 nov 25 22:38 aula09_testes.py\r\n",
      "-rw-rw-r-- 1 developer developer     170 nov 26 20:09 aula10.py\r\n",
      "-rw-rw-r-- 1 developer developer    2305 nov 25 20:01 bancodados.py\r\n",
      "drwxrwxr-x 3 developer developer    4096 nov 25 22:56 BDD\r\n",
      "-rw-rw-r-- 1 developer developer    1122 nov 21 23:19 modulos.py\r\n",
      "-rw-rw-r-- 1 developer developer  831515 nov 19 19:59 name.csv\r\n",
      "-rw-rw-r-- 1 developer developer 3023707 nov 19 20:05 name_salario.csv\r\n",
      "-rw-rw-r-- 1 developer developer  767153 nov 19 19:59 novo_salario.csv\r\n",
      "-rw-rw-r-- 1 developer developer     674 nov 19 20:13 pandas.py\r\n",
      "-rw-rw-r-- 1 developer developer    1206 nov 21 22:01 POO.py\r\n",
      "drwxrwxr-x 2 developer developer    4096 nov 26 22:17 __pycache__\r\n",
      "-rw-rw-r-- 1 developer developer     235 nov 19 22:34 requirements.txt\r\n",
      "-rw-rw-r-- 1 developer developer    1251 nov 13 20:33 revisao.py\r\n",
      "-rw-rw-r-- 1 developer developer     585 nov 26 22:04 ssh.py\r\n",
      "-rw-rw-r-- 1 developer developer      72 nov 26 22:15 Untitled.ipynb\r\n"
     ]
    }
   ],
   "source": [
    "!ls -l"
   ]
  },
  {
   "cell_type": "code",
   "execution_count": null,
   "metadata": {},
   "outputs": [],
   "source": []
  }
 ],
 "metadata": {
  "kernelspec": {
   "display_name": "Python 3",
   "language": "python",
   "name": "python3"
  },
  "language_info": {
   "codemirror_mode": {
    "name": "ipython",
    "version": 3
   },
   "file_extension": ".py",
   "mimetype": "text/x-python",
   "name": "python",
   "nbconvert_exporter": "python",
   "pygments_lexer": "ipython3",
   "version": "3.6.7"
  }
 },
 "nbformat": 4,
 "nbformat_minor": 2
}
